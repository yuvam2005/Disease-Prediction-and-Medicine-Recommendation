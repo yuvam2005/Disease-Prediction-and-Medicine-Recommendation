{
  "nbformat": 4,
  "nbformat_minor": 0,
  "metadata": {
    "colab": {
      "provenance": []
    },
    "kernelspec": {
      "name": "python3",
      "display_name": "Python 3"
    },
    "language_info": {
      "name": "python"
    }
  },
  "cells": [
    {
      "source": [
        "import heapq\n",
        "\n",
        "def solve_puzzle(start, goal):\n",
        "    def heuristic(state):\n",
        "        dist = 0\n",
        "        for i in range(3):\n",
        "            for j in range(3):\n",
        "                val = state[i][j]\n",
        "                if val != 0:\n",
        "                    goal_i, goal_j = [(r, c) for r in range(3) for c in range(3) if goal[r][c] == val][0]\n",
        "                    dist += abs(i - goal_i) + abs(j - goal_j)\n",
        "        return dist\n",
        "\n",
        "    def get_neighbors(state):\n",
        "        dirs = [(-1, 0, 'Up'), (1, 0, 'Down'), (0, -1, 'Left'), (0, 1, 'Right')]\n",
        "        i, j = next((r, c) for r in range(3) for c in range(3) if state[r][c] == 0)\n",
        "        neighbors = []\n",
        "        for dx, dy, move in dirs:\n",
        "            x, y = i + dx, j + dy\n",
        "            if 0 <= x < 3 and 0 <= y < 3:\n",
        "                new_state = [row[:] for row in state]\n",
        "                new_state[i][j], new_state[x][y] = new_state[x][y], new_state[i][j]\n",
        "                neighbors.append((new_state, move))\n",
        "        return neighbors\n",
        "\n",
        "    start_tuple = tuple(tuple(row) for row in start)\n",
        "    goal_tuple = tuple(tuple(row) for row in goal)\n",
        "\n",
        "    heap = [(heuristic(start), 0, start, [])]\n",
        "    visited = set()\n",
        "\n",
        "    while heap:\n",
        "        f, g, current, path = heapq.heappop(heap)\n",
        "        current_tuple = tuple(tuple(row) for row in current)\n",
        "\n",
        "        if current_tuple == goal_tuple:\n",
        "            return path + [current]\n",
        "\n",
        "        if current_tuple in visited:\n",
        "            continue\n",
        "        visited.add(current_tuple)\n",
        "\n",
        "        for neighbor, move in get_neighbors(current):\n",
        "            neighbor_tuple = tuple(tuple(row) for row in neighbor)\n",
        "            if neighbor_tuple not in visited:\n",
        "                heapq.heappush(heap, (g + 1 + heuristic(neighbor), g + 1, neighbor, path + [current]))\n",
        "\n",
        "    return None\n",
        "\n",
        "initial = [[1, 2, 3],\n",
        "           [4, 0, 5],\n",
        "           [7, 8, 6]]\n",
        "\n",
        "goal = [[1, 2, 3],\n",
        "        [4, 5, 6],\n",
        "        [7, 8, 0]]\n",
        "\n",
        "solution = solve_puzzle(initial, goal)\n",
        "\n",
        "if solution:\n",
        "    print(\"Steps to goal:\")\n",
        "    for step in solution:\n",
        "        for row in step:\n",
        "            print(row)\n",
        "        print(\"------\")\n",
        "else:\n",
        "    print(\"No solution found.\")\n"
      ],
      "cell_type": "code",
      "metadata": {
        "id": "hAyY04RE9bqO",
        "colab": {
          "base_uri": "https://localhost:8080/"
        },
        "outputId": "72ed1058-fb9c-4d7a-aaae-6c5c6900e9f4"
      },
      "execution_count": null,
      "outputs": [
        {
          "output_type": "stream",
          "name": "stdout",
          "text": [
            "Steps to goal:\n",
            "[1, 2, 3]\n",
            "[4, 0, 5]\n",
            "[7, 8, 6]\n",
            "------\n",
            "[1, 2, 3]\n",
            "[4, 5, 0]\n",
            "[7, 8, 6]\n",
            "------\n",
            "[1, 2, 3]\n",
            "[4, 5, 6]\n",
            "[7, 8, 0]\n",
            "------\n"
          ]
        }
      ]
    },
    {
      "cell_type": "code",
      "source": [],
      "metadata": {
        "id": "o2LzgeEY9h5Z"
      },
      "execution_count": null,
      "outputs": []
    }
  ]
}