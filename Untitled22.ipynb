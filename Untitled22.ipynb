{
  "nbformat": 4,
  "nbformat_minor": 0,
  "metadata": {
    "colab": {
      "provenance": []
    },
    "kernelspec": {
      "name": "python3",
      "display_name": "Python 3"
    },
    "language_info": {
      "name": "python"
    }
  },
  "cells": [
    {
      "cell_type": "code",
      "execution_count": null,
      "metadata": {
        "colab": {
          "base_uri": "https://localhost:8080/"
        },
        "id": "wY4an86i6RXx",
        "outputId": "5a73d16d-1b3c-476b-a88a-f2732d35af03"
      },
      "outputs": [
        {
          "output_type": "stream",
          "name": "stdout",
          "text": [
            "Total cost: 80\n",
            "Tour: [0, 1, 3, 2, 0]\n"
          ]
        }
      ],
      "source": [
        "def traveling_salesman_nearest_neighbor(graph):\n",
        "\n",
        "    num_cities = len(graph)\n",
        "    current_city = 0\n",
        "    tour = [current_city]\n",
        "    total_cost = 0\n",
        "    unvisited_cities = set(range(1, num_cities))\n",
        "\n",
        "    while unvisited_cities:\n",
        "        nearest_city = None\n",
        "        min_distance = float('inf')\n",
        "\n",
        "        for city in unvisited_cities:\n",
        "            distance = graph[current_city][city]\n",
        "            if distance < min_distance:\n",
        "                min_distance = distance\n",
        "                nearest_city = city\n",
        "\n",
        "        tour.append(nearest_city)\n",
        "        total_cost += min_distance\n",
        "        unvisited_cities.remove(nearest_city)\n",
        "        current_city = nearest_city\n",
        "\n",
        "\n",
        "    total_cost += graph[current_city][0]\n",
        "    tour.append(0)\n",
        "\n",
        "    return total_cost, tour\n",
        "\n",
        "\n",
        "graph = [\n",
        "    [0, 10, 15, 20],\n",
        "    [10, 0, 35, 25],\n",
        "    [15, 35, 0, 30],\n",
        "    [20, 25, 30, 0]\n",
        "]\n",
        "\n",
        "total_cost, tour = traveling_salesman_nearest_neighbor(graph)\n",
        "\n",
        "print(\"Total cost:\", total_cost)\n",
        "print(\"Tour:\", tour)"
      ]
    },
    {
      "cell_type": "code",
      "source": [],
      "metadata": {
        "id": "c4HzHb3E6SgT"
      },
      "execution_count": null,
      "outputs": []
    }
  ]
}