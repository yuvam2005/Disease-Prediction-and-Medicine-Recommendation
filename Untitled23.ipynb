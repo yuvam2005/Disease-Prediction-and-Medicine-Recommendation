{
  "nbformat": 4,
  "nbformat_minor": 0,
  "metadata": {
    "colab": {
      "provenance": []
    },
    "kernelspec": {
      "name": "python3",
      "display_name": "Python 3"
    },
    "language_info": {
      "name": "python"
    }
  },
  "cells": [
    {
      "cell_type": "code",
      "execution_count": null,
      "metadata": {
        "colab": {
          "base_uri": "https://localhost:8080/"
        },
        "id": "ujGKAAo46r7d",
        "outputId": "16eb1063-ee66-45b9-cf62-6f8ac78dfb15"
      },
      "outputs": [
        {
          "output_type": "stream",
          "name": "stdout",
          "text": [
            "Best tour: [2, 0, 1, 3]\n",
            "Total cost: 80\n"
          ]
        }
      ],
      "source": [
        "import random\n",
        "\n",
        "def total_distance(tour, graph):\n",
        "    distance = 0\n",
        "    for i in range(len(tour)):\n",
        "        distance += graph[tour[i]][tour[(i + 1) % len(tour)]]\n",
        "    return distance\n",
        "\n",
        "def generate_neighbor(tour):\n",
        "    a, b = random.sample(range(len(tour)), 2)\n",
        "    neighbor = tour[:]\n",
        "    neighbor[a], neighbor[b] = neighbor[b], neighbor[a]\n",
        "    return neighbor\n",
        "\n",
        "def hill_climbing_tsp(graph, max_iterations=1000):\n",
        "    num_cities = len(graph)\n",
        "    current_tour = list(range(num_cities))\n",
        "    random.shuffle(current_tour)\n",
        "    current_distance = total_distance(current_tour, graph)\n",
        "\n",
        "    for _ in range(max_iterations):\n",
        "        neighbor = generate_neighbor(current_tour)\n",
        "        neighbor_distance = total_distance(neighbor, graph)\n",
        "\n",
        "        if neighbor_distance < current_distance:\n",
        "            current_tour = neighbor\n",
        "            current_distance = neighbor_distance\n",
        "\n",
        "    return current_tour, current_distance\n",
        "\n",
        "\n",
        "graph = [\n",
        "    [0, 10, 15, 20],\n",
        "    [10, 0, 35, 25],\n",
        "    [15, 35, 0, 30],\n",
        "    [20, 25, 30, 0]\n",
        "]\n",
        "\n",
        "best_tour, best_cost = hill_climbing_tsp(graph, max_iterations=5000)\n",
        "\n",
        "print(\"Best tour:\", best_tour)\n",
        "print(\"Total cost:\", best_cost)"
      ]
    },
    {
      "cell_type": "code",
      "source": [],
      "metadata": {
        "id": "2lZ4W6Rn6t61"
      },
      "execution_count": null,
      "outputs": []
    }
  ]
}