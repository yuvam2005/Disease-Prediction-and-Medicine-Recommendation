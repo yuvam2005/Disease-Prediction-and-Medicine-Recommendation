{
  "nbformat": 4,
  "nbformat_minor": 0,
  "metadata": {
    "colab": {
      "provenance": []
    },
    "kernelspec": {
      "name": "python3",
      "display_name": "Python 3"
    },
    "language_info": {
      "name": "python"
    }
  },
  "cells": [
    {
      "cell_type": "code",
      "execution_count": null,
      "metadata": {
        "colab": {
          "base_uri": "https://localhost:8080/"
        },
        "id": "ZM5pPVRR572y",
        "outputId": "056a9ea6-2735-439e-fdc8-c394bb3c263d"
      },
      "outputs": [
        {
          "output_type": "stream",
          "name": "stdout",
          "text": [
            "Goal state reached\n",
            "(0, 0)\n",
            "(3, 0)\n",
            "(3, 5)\n",
            "(0, 5)\n",
            "(3, 2)\n",
            "(0, 2)\n",
            "(2, 0)\n",
            "(2, 5)\n",
            "(3, 4)\n"
          ]
        }
      ],
      "source": [
        "def water_jug_dfs(capacity1, capacity2, target):\n",
        "    result = []\n",
        "    visited = set()\n",
        "\n",
        "    def dfs(jug1, jug2):\n",
        "        if (jug1, jug2) in visited:\n",
        "            return False\n",
        "\n",
        "        visited.add((jug1, jug2))\n",
        "        result.append((jug1, jug2))\n",
        "\n",
        "        if jug1 == target or jug2 == target:\n",
        "            return True\n",
        "\n",
        "        if jug1 < capacity1:\n",
        "            if dfs(capacity1, jug2):\n",
        "                return True\n",
        "        if jug2 < capacity2:\n",
        "            if dfs(jug1, capacity2):\n",
        "                return True\n",
        "\n",
        "        if dfs(0, jug2):\n",
        "            return True\n",
        "        if dfs(jug1, 0):\n",
        "            return True\n",
        "\n",
        "        if jug1 > 0 and jug2 < capacity2:\n",
        "            amount = min(jug1, capacity2 - jug2)\n",
        "            if dfs(jug1 - amount, jug2 + amount):\n",
        "                return True\n",
        "        if jug2 > 0 and jug1 < capacity1:\n",
        "            amount = min(jug2, capacity1 - jug1)\n",
        "            if dfs(jug1 + amount, jug2 - amount):\n",
        "                return True\n",
        "\n",
        "        return False\n",
        "\n",
        "    dfs(0, 0)\n",
        "    return result\n",
        "\n",
        "capacity1 = 3\n",
        "capacity2 = 5\n",
        "target = 4\n",
        "result = water_jug_dfs(capacity1, capacity2, target)\n",
        "if(result):\n",
        "    print(\"Goal state reached\")\n",
        "    for step in result:\n",
        "        print(step)\n",
        "else:\n",
        "    print(\"Goal state not reached\")"
      ]
    },
    {
      "cell_type": "code",
      "source": [],
      "metadata": {
        "id": "GRGIrbEP6Akg"
      },
      "execution_count": null,
      "outputs": []
    }
  ]
}