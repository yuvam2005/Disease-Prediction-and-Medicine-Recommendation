{
  "nbformat": 4,
  "nbformat_minor": 0,
  "metadata": {
    "colab": {
      "provenance": []
    },
    "kernelspec": {
      "name": "python3",
      "display_name": "Python 3"
    },
    "language_info": {
      "name": "python"
    }
  },
  "cells": [
    {
      "cell_type": "code",
      "execution_count": null,
      "metadata": {
        "colab": {
          "base_uri": "https://localhost:8080/"
        },
        "id": "Fo2Myixc_q5s",
        "outputId": "326e3660-146d-4bd8-a708-5e109b2e3c48"
      },
      "outputs": [
        {
          "output_type": "stream",
          "name": "stdout",
          "text": [
            "The optimal value is: 5\n"
          ]
        }
      ],
      "source": [
        "import math\n",
        "\n",
        "\n",
        "def alphabeta(depth, node_index, is_maximizing, values, alpha, beta):\n",
        "\n",
        "    if depth == 3:\n",
        "        return values[node_index]\n",
        "\n",
        "    if is_maximizing:\n",
        "        best = -math.inf\n",
        "        for i in range(2):\n",
        "            val = alphabeta(depth + 1, node_index * 2 + i, False, values, alpha, beta)\n",
        "            best = max(best, val)\n",
        "            alpha = max(alpha, best)\n",
        "            if beta <= alpha:\n",
        "                break\n",
        "        return best\n",
        "    else:\n",
        "        best = math.inf\n",
        "        for i in range(2):\n",
        "            val = alphabeta(depth + 1, node_index * 2 + i, True, values, alpha, beta)\n",
        "            best = min(best, val)\n",
        "            beta = min(beta, best)\n",
        "            if beta <= alpha:\n",
        "                break\n",
        "        return best\n",
        "\n",
        "\n",
        "values = [3, 5, 6, 9, 1, 2, 0, -1]\n",
        "\n",
        "optimal_value = alphabeta(0, 0, True, values, -math.inf, math.inf)\n",
        "print(\"The optimal value is:\", optimal_value)"
      ]
    },
    {
      "cell_type": "code",
      "source": [],
      "metadata": {
        "id": "A5rcA2cA_4EL"
      },
      "execution_count": null,
      "outputs": []
    }
  ]
}