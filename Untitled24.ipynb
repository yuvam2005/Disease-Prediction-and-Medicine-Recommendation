{
  "nbformat": 4,
  "nbformat_minor": 0,
  "metadata": {
    "colab": {
      "provenance": []
    },
    "kernelspec": {
      "name": "python3",
      "display_name": "Python 3"
    },
    "language_info": {
      "name": "python"
    }
  },
  "cells": [
    {
      "cell_type": "code",
      "execution_count": null,
      "metadata": {
        "id": "9ErvWgE87O9x",
        "outputId": "59a150e8-9cd5-4e17-da7d-bee2c97fefa7",
        "colab": {
          "base_uri": "https://localhost:8080/"
        }
      },
      "outputs": [
        {
          "output_type": "stream",
          "name": "stdout",
          "text": [
            "Path found: ['A', 'B', 'D', 'G']\n"
          ]
        }
      ],
      "source": [
        "import heapq\n",
        "\n",
        "def best_first_search(graph, start, goal, heuristic):\n",
        "    open_list = []\n",
        "    heapq.heappush(open_list, (heuristic[start], start, None))\n",
        "    visited = set()\n",
        "    parent_map = {}\n",
        "\n",
        "    while open_list:\n",
        "        _, current, parent = heapq.heappop(open_list)\n",
        "\n",
        "        if current in visited:\n",
        "            continue\n",
        "\n",
        "        visited.add(current)\n",
        "        parent_map[current] = parent\n",
        "\n",
        "        if current == goal:\n",
        "            path = []\n",
        "            while current:\n",
        "                path.append(current)\n",
        "                current = parent_map[current]\n",
        "            return path[::-1]\n",
        "\n",
        "        for neighbor in graph.get(current, []):\n",
        "            if neighbor not in visited:\n",
        "                heapq.heappush(open_list, (heuristic[neighbor], neighbor, current))\n",
        "\n",
        "    return None\n",
        "\n",
        "graph = {\n",
        "    'A': ['B', 'C'],\n",
        "    'B': ['D', 'E'],\n",
        "    'C': ['F'],\n",
        "    'D': ['G'],\n",
        "    'E': [],\n",
        "    'F': ['G'],\n",
        "    'G': []\n",
        "}\n",
        "\n",
        "heuristic = {\n",
        "    'A': 5, 'B': 3, 'C': 4,\n",
        "    'D': 2, 'E': 4, 'F': 2,\n",
        "    'G': 0\n",
        "}\n",
        "\n",
        "start = 'A'\n",
        "goal = 'G'\n",
        "\n",
        "path = best_first_search(graph, start, goal, heuristic)\n",
        "\n",
        "if path:\n",
        "    print(\"Path found:\", path)\n",
        "else:\n",
        "    print(\"No path found.\")\n"
      ]
    },
    {
      "cell_type": "code",
      "source": [],
      "metadata": {
        "id": "619V6ZVO7QdR"
      },
      "execution_count": null,
      "outputs": []
    }
  ]
}