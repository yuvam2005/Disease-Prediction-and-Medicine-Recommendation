{
  "nbformat": 4,
  "nbformat_minor": 0,
  "metadata": {
    "colab": {
      "provenance": []
    },
    "kernelspec": {
      "name": "python3",
      "display_name": "Python 3"
    },
    "language_info": {
      "name": "python"
    }
  },
  "cells": [
    {
      "cell_type": "code",
      "execution_count": null,
      "metadata": {
        "id": "QCBDDnex6IUv",
        "outputId": "a0f12930-774f-4c69-a69a-f1ad562dea1c",
        "colab": {
          "base_uri": "https://localhost:8080/"
        }
      },
      "outputs": [
        {
          "output_type": "stream",
          "name": "stdout",
          "text": [
            "Minimum cost: 80\n",
            "Optimal tour: [0, 1, 3, 2, 0]\n"
          ]
        }
      ],
      "source": [
        "def traveling_salesman_branch_and_bound(graph):\n",
        "\n",
        "    num_cities = len(graph)\n",
        "    min_cost = float('inf')\n",
        "    optimal_tour = []\n",
        "\n",
        "    def branch_and_bound(current_city, current_cost, visited, path):\n",
        "        nonlocal min_cost, optimal_tour\n",
        "\n",
        "        if len(visited) == num_cities:\n",
        "            new_cost = current_cost + graph[current_city][0]\n",
        "            if new_cost < min_cost:\n",
        "                min_cost = new_cost\n",
        "                optimal_tour = path + [0]\n",
        "            return\n",
        "\n",
        "        for next_city in range(num_cities):\n",
        "            if next_city not in visited:\n",
        "                new_cost = current_cost + graph[current_city][next_city]\n",
        "                if new_cost < min_cost:\n",
        "                    branch_and_bound(next_city, new_cost, visited | {next_city}, path + [next_city])\n",
        "\n",
        "\n",
        "    branch_and_bound(0, 0, {0}, [0])\n",
        "\n",
        "    return min_cost, optimal_tour\n",
        "\n",
        "\n",
        "graph = [\n",
        "    [0, 10, 15, 20],\n",
        "    [10, 0, 35, 25],\n",
        "    [15, 35, 0, 30],\n",
        "    [20, 25, 30, 0]\n",
        "]\n",
        "\n",
        "min_cost, optimal_tour = traveling_salesman_branch_and_bound(graph)\n",
        "\n",
        "print(\"Minimum cost:\", min_cost)\n",
        "print(\"Optimal tour:\", optimal_tour)"
      ]
    },
    {
      "cell_type": "code",
      "source": [],
      "metadata": {
        "id": "1wnW_J6O6JGs"
      },
      "execution_count": null,
      "outputs": []
    }
  ]
}