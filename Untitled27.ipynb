{
  "nbformat": 4,
  "nbformat_minor": 0,
  "metadata": {
    "colab": {
      "provenance": []
    },
    "kernelspec": {
      "name": "python3",
      "display_name": "Python 3"
    },
    "language_info": {
      "name": "python"
    }
  },
  "cells": [
    {
      "cell_type": "code",
      "execution_count": null,
      "metadata": {
        "colab": {
          "base_uri": "https://localhost:8080/"
        },
        "id": "CFJH_uWt-u_-",
        "outputId": "b26a2c79-0618-4a3e-db5a-e36a5e37bcb5"
      },
      "outputs": [
        {
          "output_type": "stream",
          "name": "stdout",
          "text": [
            "Total solutions found: 92\n",
            "Solution 1:\n",
            "Q . . . . . . .\n",
            ". . . . Q . . .\n",
            ". . . . . . . Q\n",
            ". . . . . Q . .\n",
            ". . Q . . . . .\n",
            ". . . . . . Q .\n",
            ". Q . . . . . .\n",
            ". . . Q . . . .\n",
            "\n",
            "Solution 2:\n",
            "Q . . . . . . .\n",
            ". . . . . Q . .\n",
            ". . . . . . . Q\n",
            ". . Q . . . . .\n",
            ". . . . . . Q .\n",
            ". . . Q . . . .\n",
            ". Q . . . . . .\n",
            ". . . . Q . . .\n",
            "\n",
            "Solution 3:\n",
            "Q . . . . . . .\n",
            ". . . . . . Q .\n",
            ". . . Q . . . .\n",
            ". . . . . Q . .\n",
            ". . . . . . . Q\n",
            ". Q . . . . . .\n",
            ". . . . Q . . .\n",
            ". . Q . . . . .\n",
            "\n"
          ]
        }
      ],
      "source": [
        "def is_safe(board, row, col):\n",
        "    for i in range(row):\n",
        "        if board[i] == col:\n",
        "            return False\n",
        "        if abs(board[i] - col) == abs(i - row):\n",
        "            return False\n",
        "    return True\n",
        "\n",
        "def solve_n_queens(n, row=0, board=None, solutions=[]):\n",
        "    if board is None:\n",
        "        board = []\n",
        "\n",
        "    if row == n:\n",
        "        solutions.append(board[:])\n",
        "        return\n",
        "\n",
        "    for col in range(n):\n",
        "        if is_safe(board, row, col):\n",
        "            board.append(col)\n",
        "            solve_n_queens(n, row + 1, board, solutions)\n",
        "            board.pop()\n",
        "\n",
        "def print_solutions(solutions):\n",
        "    for sol_num, solution in enumerate(solutions, 1):\n",
        "        print(f\"Solution {sol_num}:\")\n",
        "        for row in solution:\n",
        "            line = ['.'] * len(solution)\n",
        "            line[row] = 'Q'\n",
        "            print(' '.join(line))\n",
        "        print()\n",
        "\n",
        "\n",
        "solutions = []\n",
        "solve_n_queens(8, solutions=solutions)\n",
        "print(f\"Total solutions found: {len(solutions)}\")\n",
        "print_solutions(solutions[:3])\n"
      ]
    },
    {
      "cell_type": "code",
      "source": [],
      "metadata": {
        "id": "OYsFpu44_I0C"
      },
      "execution_count": null,
      "outputs": []
    }
  ]
}